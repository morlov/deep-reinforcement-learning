{
 "cells": [
  {
   "cell_type": "markdown",
   "metadata": {},
   "source": [
    "# Navigation\n",
    "\n",
    "---\n",
    "\n",
    "In this notebook, you will learn how to use the Unity ML-Agents environment for the first project of the [Deep Reinforcement Learning Nanodegree](https://www.udacity.com/course/deep-reinforcement-learning-nanodegree--nd893).\n",
    "\n",
    "### 1. Start the Environment\n",
    "\n",
    "We begin by importing some necessary packages.  If the code cell below returns an error, please revisit the project instructions to double-check that you have installed [Unity ML-Agents](https://github.com/Unity-Technologies/ml-agents/blob/master/docs/Installation.md) and [NumPy](http://www.numpy.org/)."
   ]
  },
  {
   "cell_type": "code",
   "execution_count": 1,
   "metadata": {},
   "outputs": [],
   "source": [
    "from unityagents import UnityEnvironment\n",
    "import numpy as np"
   ]
  },
  {
   "cell_type": "markdown",
   "metadata": {},
   "source": [
    "Next, we will start the environment!  **_Before running the code cell below_**, change the `file_name` parameter to match the location of the Unity environment that you downloaded.\n",
    "\n",
    "- **Mac**: `\"path/to/Banana.app\"`\n",
    "- **Windows** (x86): `\"path/to/Banana_Windows_x86/Banana.exe\"`\n",
    "- **Windows** (x86_64): `\"path/to/Banana_Windows_x86_64/Banana.exe\"`\n",
    "- **Linux** (x86): `\"path/to/Banana_Linux/Banana.x86\"`\n",
    "- **Linux** (x86_64): `\"path/to/Banana_Linux/Banana.x86_64\"`\n",
    "- **Linux** (x86, headless): `\"path/to/Banana_Linux_NoVis/Banana.x86\"`\n",
    "- **Linux** (x86_64, headless): `\"path/to/Banana_Linux_NoVis/Banana.x86_64\"`\n",
    "\n",
    "For instance, if you are using a Mac, then you downloaded `Banana.app`.  If this file is in the same folder as the notebook, then the line below should appear as follows:\n",
    "```\n",
    "env = UnityEnvironment(file_name=\"Banana.app\")\n",
    "```"
   ]
  },
  {
   "cell_type": "code",
   "execution_count": 2,
   "metadata": {},
   "outputs": [
    {
     "name": "stderr",
     "output_type": "stream",
     "text": [
      "INFO:unityagents:\n",
      "'Academy' started successfully!\n",
      "Unity Academy name: Academy\n",
      "        Number of Brains: 1\n",
      "        Number of External Brains : 1\n",
      "        Lesson number : 0\n",
      "        Reset Parameters :\n",
      "\t\t\n",
      "Unity brain name: BananaBrain\n",
      "        Number of Visual Observations (per agent): 0\n",
      "        Vector Observation space type: continuous\n",
      "        Vector Observation space size (per agent): 37\n",
      "        Number of stacked Vector Observation: 1\n",
      "        Vector Action space type: discrete\n",
      "        Vector Action space size (per agent): 4\n",
      "        Vector Action descriptions: , , , \n"
     ]
    }
   ],
   "source": [
    "env = UnityEnvironment(file_name=\"Banana.app\")"
   ]
  },
  {
   "cell_type": "markdown",
   "metadata": {},
   "source": [
    "Environments contain **_brains_** which are responsible for deciding the actions of their associated agents. Here we check for the first brain available, and set it as the default brain we will be controlling from Python."
   ]
  },
  {
   "cell_type": "code",
   "execution_count": 3,
   "metadata": {},
   "outputs": [],
   "source": [
    "# get the default brain\n",
    "brain_name = env.brain_names[0]\n",
    "brain = env.brains[brain_name]"
   ]
  },
  {
   "cell_type": "markdown",
   "metadata": {},
   "source": [
    "### 2. Examine the State and Action Spaces\n",
    "\n",
    "The simulation contains a single agent that navigates a large environment.  At each time step, it has four actions at its disposal:\n",
    "- `0` - walk forward \n",
    "- `1` - walk backward\n",
    "- `2` - turn left\n",
    "- `3` - turn right\n",
    "\n",
    "The state space has `37` dimensions and contains the agent's velocity, along with ray-based perception of objects around agent's forward direction.  A reward of `+1` is provided for collecting a yellow banana, and a reward of `-1` is provided for collecting a blue banana. \n",
    "\n",
    "Run the code cell below to print some information about the environment."
   ]
  },
  {
   "cell_type": "code",
   "execution_count": 4,
   "metadata": {},
   "outputs": [
    {
     "name": "stdout",
     "output_type": "stream",
     "text": [
      "Number of agents: 1\n",
      "Number of actions: 4\n",
      "States look like: [1.         0.         0.         0.         0.84408134 0.\n",
      " 0.         1.         0.         0.0748472  0.         1.\n",
      " 0.         0.         0.25755    1.         0.         0.\n",
      " 0.         0.74177343 0.         1.         0.         0.\n",
      " 0.25854847 0.         0.         1.         0.         0.09355672\n",
      " 0.         1.         0.         0.         0.31969345 0.\n",
      " 0.        ]\n",
      "States have length: 37\n"
     ]
    }
   ],
   "source": [
    "# reset the environment\n",
    "env_info = env.reset(train_mode=True)[brain_name]\n",
    "\n",
    "# number of agents in the environment\n",
    "print('Number of agents:', len(env_info.agents))\n",
    "\n",
    "# number of actions\n",
    "action_size = brain.vector_action_space_size\n",
    "print('Number of actions:', action_size)\n",
    "\n",
    "# examine the state space \n",
    "state = env_info.vector_observations[0]\n",
    "print('States look like:', state)\n",
    "state_size = len(state)\n",
    "print('States have length:', state_size)"
   ]
  },
  {
   "cell_type": "markdown",
   "metadata": {},
   "source": [
    "### 3. Take Random Actions in the Environment\n",
    "\n",
    "In the next code cell, you will learn how to use the Python API to control the agent and receive feedback from the environment.\n",
    "\n",
    "Once this cell is executed, you will watch the agent's performance, if it selects an action (uniformly) at random with each time step.  A window should pop up that allows you to observe the agent, as it moves through the environment.  \n",
    "\n",
    "Of course, as part of the project, you'll have to change the code so that the agent is able to use its experience to gradually choose better actions when interacting with the environment!"
   ]
  },
  {
   "cell_type": "code",
   "execution_count": 5,
   "metadata": {},
   "outputs": [
    {
     "name": "stdout",
     "output_type": "stream",
     "text": [
      "Score: 0.0\n"
     ]
    }
   ],
   "source": [
    "env_info = env.reset(train_mode=False)[brain_name] # reset the environment\n",
    "state = env_info.vector_observations[0]            # get the current state\n",
    "score = 0                                          # initialize the score\n",
    "while True:\n",
    "    action = np.random.randint(action_size)        # select an action\n",
    "    env_info = env.step(action)[brain_name]        # send the action to the environment\n",
    "    next_state = env_info.vector_observations[0]   # get the next state\n",
    "    reward = env_info.rewards[0]                   # get the reward\n",
    "    done = env_info.local_done[0]                  # see if episode has finished\n",
    "    score += reward                                # update the score\n",
    "    state = next_state                             # roll over the state to next time step\n",
    "    if done:                                       # exit loop if episode finished\n",
    "        break\n",
    "    \n",
    "print(\"Score: {}\".format(score))"
   ]
  },
  {
   "cell_type": "markdown",
   "metadata": {},
   "source": [
    "When finished, you can close the environment."
   ]
  },
  {
   "cell_type": "code",
   "execution_count": 6,
   "metadata": {},
   "outputs": [],
   "source": [
    "# env.close()"
   ]
  },
  {
   "cell_type": "markdown",
   "metadata": {},
   "source": [
    "### 4. Deep Q-network algorithm implementaion for submission\n",
    "\n",
    "This part contains an implementation of Deep Q-Network algorithm, for referecne see [here](https://storage.googleapis.com/deepmind-media/dqn/DQNNaturePaper.pdf).\n",
    "\n",
    "<p><img src=\"dqn_algo.png\" width=\"500\" align=\"left\"/></p>"
   ]
  },
  {
   "cell_type": "markdown",
   "metadata": {},
   "source": [
    "### Helper code for running env"
   ]
  },
  {
   "cell_type": "code",
   "execution_count": 7,
   "metadata": {},
   "outputs": [],
   "source": [
    "import matplotlib.pyplot as plt\n",
    "%matplotlib inline\n",
    "\n",
    "def run_episode(agent, train_mode=True):\n",
    "    \"\"\"\n",
    "    A hepler function for running single episode\n",
    "    \"\"\"\n",
    "    \n",
    "    env_info = env.reset(train_mode=train_mode)[brain_name] \n",
    "    state = env_info.vector_observations[0]                 \n",
    "    score = 0                                               \n",
    "    \n",
    "    while True:\n",
    "        action = agent.act(state)                           \n",
    "        env_info = env.step(action)[brain_name]             \n",
    "        next_state = env_info.vector_observations[0]        \n",
    "        reward = env_info.rewards[0]                        \n",
    "        done = env_info.local_done[0]                       \n",
    "        agent.update(state, action, reward, next_state, done)\n",
    "        score += reward                                     \n",
    "        state = next_state                                  \n",
    "        if done:                                            \n",
    "            break\n",
    "    agent.reset_episode()\n",
    "    return score\n",
    "\n",
    "def run_episodes_and_display(agent, n_episodes=1000):\n",
    "    \"\"\"\n",
    "    Runs a series of episode and display agent's performance\n",
    "    \"\"\"\n",
    "    \n",
    "    display_step = 100\n",
    "    score = 0\n",
    "    score_sum = 0\n",
    "    scores = []\n",
    "    for episode in range(1, n_episodes+1):\n",
    "        score = run_episode(agent, train_mode=True)\n",
    "        score_sum += score\n",
    "        scores.append(score)\n",
    "        if episode%display_step==0:\n",
    "            avg_score = score_sum/display_step\n",
    "            print(\"Episode: {}. Average score: {}\".format(episode, avg_score))\n",
    "            score_sum = 0\n",
    "            \n",
    "            if avg_score > 13:\n",
    "                print(\"Environment is solved! Average score over 100 episodes > 13.\")\n",
    "                break\n",
    "            \n",
    "    fig = plt.figure()\n",
    "    plt.plot(np.arange(len(scores)), scores)\n",
    "    plt.ylabel('Max Score')\n",
    "    plt.xlabel('Episode #')\n",
    "    plt.show()"
   ]
  },
  {
   "cell_type": "code",
   "execution_count": 8,
   "metadata": {},
   "outputs": [],
   "source": [
    "import torch\n",
    "import torch.nn as nn\n",
    "import torch.nn.functional as F\n",
    "\n",
    "class QNetwork(nn.Module):\n",
    "    \"\"\"\n",
    "    Simple multilayer network for DQN agent\n",
    "    \"\"\"\n",
    "\n",
    "    def __init__(self, state_size, action_size, seed, hidden_size1=64, hidden_size2=64):\n",
    "        super(QNetwork, self).__init__()\n",
    "        self.seed = torch.manual_seed(seed)\n",
    "        self.layer1 = nn.Linear(state_size, hidden_size1)\n",
    "        self.layer2 = nn.Linear(hidden_size1, hidden_size2)\n",
    "        self.layer3 = nn.Linear(hidden_size2, action_size)\n",
    "\n",
    "    def forward(self, state):\n",
    "        x = F.relu(self.layer1(state))\n",
    "        x = F.relu(self.layer2(x))\n",
    "        return self.layer3(x)"
   ]
  },
  {
   "cell_type": "code",
   "execution_count": 9,
   "metadata": {},
   "outputs": [
    {
     "name": "stdout",
     "output_type": "stream",
     "text": [
      "Running on device: cpu\n"
     ]
    }
   ],
   "source": [
    "import torch.optim as optim\n",
    "from collections import deque\n",
    "import random\n",
    "\n",
    "\n",
    "BATCH_SIZE = 32\n",
    "UPDATE_STEP = 4\n",
    "BUFFER_SIZE = 100000\n",
    "LEARNING_RATE = 5e-4\n",
    "GAMMA = 0.9\n",
    "EPS_START = 1\n",
    "EPS_END = 0.1\n",
    "EPS_DECAY = 0.995\n",
    "TAU=1e-3\n",
    "\n",
    "device = torch.device(\"cuda:0\" if torch.cuda.is_available() else \"cpu\")\n",
    "print(\"Running on device: {}\".format(device))\n",
    "\n",
    "class DQNAgent:\n",
    "    \"\"\" An agent implementing Deep Q-Network algorithm\"\"\"\n",
    "    \n",
    "    def __init__(self, state_size, action_size, seed=42):\n",
    "        \"\"\"Initializes an Agent.\n",
    "        \n",
    "        Params:\n",
    "        -------\n",
    "            state_size (int): dimension of each state\n",
    "            action_size (int): dimension of each action\n",
    "            seed (int): random seed\n",
    "        \"\"\"\n",
    "        self.qnetwork_local = QNetwork(state_size, action_size, seed).to(device)\n",
    "        self.qnetwork_target = QNetwork(state_size, action_size, seed).to(device)\n",
    "        self.optimizer = optim.Adam(self.qnetwork_local.parameters(), lr=LEARNING_RATE)\n",
    "        self.action_size = action_size\n",
    "        self.buffer = deque(maxlen=BUFFER_SIZE) \n",
    "        self.step = 0\n",
    "        self.eps = EPS_START\n",
    "        \n",
    "    def reset_episode(self):\n",
    "        \"\"\"\n",
    "        Resets episode and update epsilon decay\n",
    "        \"\"\"\n",
    "        self.eps = max(EPS_END, EPS_DECAY*self.eps) \n",
    "        \n",
    "    def learn(self):\n",
    "        \"\"\"\n",
    "        Learns values-actions network\n",
    "        \n",
    "        \"\"\"\n",
    "        \n",
    "        # Sample batch from replay buffer\n",
    "        states, next_states, actions, rewards, dones = self.sample_batch()\n",
    "        \n",
    "        values = self.qnetwork_target.forward(next_states).detach()\n",
    "        targets = rewards + GAMMA * values.max(1)[0].view(dones.size()) * (1 - dones)\n",
    "        outputs = self.qnetwork_local.forward(states).gather(1, actions.long())\n",
    "        self.optimizer.zero_grad()\n",
    "        loss = F.mse_loss(outputs, targets)\n",
    "        loss.backward()\n",
    "        self.optimizer.step()\n",
    "    \n",
    "    \n",
    "    def update(self, state, action, reward, next_state, done):\n",
    "        \"\"\"\n",
    "        Makes an update step of algorithm and append sars to buffer replay\n",
    "        \n",
    "        Params:\n",
    "        -------\n",
    "        state - current state\n",
    "        action - action made\n",
    "        reward - reward for an action\n",
    "        next_state - next state from env\n",
    "        done - episode finishing flag\n",
    "        \"\"\"\n",
    "        self.buffer.append((state, next_state, action, reward, float(done)))\n",
    "        \n",
    "        self.step = (self.step+1)%UPDATE_STEP\n",
    "        if self.step == 0:\n",
    "            if len(self.buffer) > BATCH_SIZE:\n",
    "                self.learn()\n",
    "                self.reset_target_network()\n",
    "        \n",
    "    def reset_target_network(self):\n",
    "        \"\"\"\n",
    "        Resets params of target network to values from local network\n",
    "        \"\"\"\n",
    "        params = zip(self.qnetwork_target.parameters(), self.qnetwork_local.parameters())\n",
    "        for target_param, local_param in params:\n",
    "            updated_params = TAU*local_param.data + (1-TAU)*target_param.data\n",
    "            target_param.data.copy_(updated_params)\n",
    "        \n",
    "        \n",
    "    def act(self, state):\n",
    "        \"\"\"\n",
    "        Selects action from state if epsilon-greedy way\n",
    "        \n",
    "        Params:\n",
    "        state - current state\n",
    "        \n",
    "        \"\"\"\n",
    "        self.step+=1\n",
    "        \n",
    "        self.qnetwork_local.eval()\n",
    "        with torch.no_grad():\n",
    "            action_values = self.qnetwork_local(torch.from_numpy(state).float().to(device))  \n",
    "        self.qnetwork_local.train()\n",
    "            \n",
    "        if random.random() > self.eps:\n",
    "            return np.argmax(action_values.cpu().data.numpy())\n",
    "        else:\n",
    "            return random.choice(np.arange(self.action_size))\n",
    "        \n",
    "    def sample_batch(self):\n",
    "        \"\"\"\n",
    "        Samples a batch of experience from replay buffer random uniformily\n",
    "        \"\"\"\n",
    "        batch = random.sample(self.buffer, k=BATCH_SIZE)\n",
    "        f = lambda arr: torch.from_numpy(np.vstack(arr)).float().to(device)\n",
    "        states, next_states, actions, rewards, dones = map(f, zip(*batch))\n",
    "        return states, next_states, actions, rewards, dones "
   ]
  },
  {
   "cell_type": "code",
   "execution_count": 10,
   "metadata": {},
   "outputs": [
    {
     "name": "stdout",
     "output_type": "stream",
     "text": [
      "Episode: 100. Average score: 1.02\n",
      "Episode: 200. Average score: 3.96\n",
      "Episode: 300. Average score: 6.98\n",
      "Episode: 400. Average score: 10.09\n",
      "Episode: 500. Average score: 12.55\n",
      "Episode: 600. Average score: 11.75\n",
      "Episode: 700. Average score: 12.74\n",
      "Episode: 800. Average score: 12.63\n",
      "Episode: 900. Average score: 13.58\n",
      "Environment is solved! Average score over 100 episodes > 13.\n"
     ]
    },
    {
     "data": {
      "image/png": "[encoded data removed]",
      "text/plain": [
       "<Figure size 432x288 with 1 Axes>"
      ]
     },
     "metadata": {
      "needs_background": "light"
     },
     "output_type": "display_data"
    }
   ],
   "source": [
    "dqn_agent = DQNAgent(state_size, action_size)\n",
    "run_episodes_and_display(dqn_agent, n_episodes=1000)"
   ]
  },
  {
   "cell_type": "code",
   "execution_count": 11,
   "metadata": {},
   "outputs": [
    {
     "data": {
      "text/plain": [
       "18.0"
      ]
     },
     "execution_count": 11,
     "metadata": {},
     "output_type": "execute_result"
    }
   ],
   "source": [
    "run_episode(dqn_agent, train_mode=False)"
   ]
  },
  {
   "cell_type": "code",
   "execution_count": 12,
   "metadata": {},
   "outputs": [],
   "source": [
    "torch.save(dqn_agent.qnetwork_local.state_dict(), \"./qnetwork_local.pt\")\n",
    "torch.save(dqn_agent.qnetwork_target.state_dict(), \"./qnetwork_target.pt\")"
   ]
  },
  {
   "cell_type": "markdown",
   "metadata": {},
   "source": [
    "### Optional part: DQN with prioritized replay buffer"
   ]
  },
  {
   "cell_type": "code",
   "execution_count": 20,
   "metadata": {},
   "outputs": [],
   "source": [
    "# Priority sampling hyperparams\n",
    "E = 1e-5\n",
    "ALPHA = 0.95\n",
    "BETA = 0.95\n",
    "\n",
    "\n",
    "class DQNPRAgent(DQNAgent):\n",
    "    \n",
    "    def __init__(self, state_size, action_size, seed=42):\n",
    "        super().__init__(state_size, action_size, seed)\n",
    "        self.priority = deque(maxlen=BUFFER_SIZE)\n",
    "\n",
    "        \n",
    "    def learn(self):\n",
    "        \"\"\"\n",
    "        Learns values-actions network\n",
    "        \n",
    "        \"\"\"\n",
    "        \n",
    "        states, next_states, actions, rewards, dones, weights = self.sample_batch()\n",
    "        values = self.qnetwork_target.forward(next_states).detach()\n",
    "        targets = rewards + GAMMA * values.max(1)[0].view(dones.size()) * (1 - dones)\n",
    "        outputs = self.qnetwork_local.forward(states).gather(1, actions.long())\n",
    "        self.optimizer.zero_grad()\n",
    "        loss = torch.sum(weights * (outputs - targets) ** 2)\n",
    "        loss.backward()\n",
    "        self.optimizer.step()\n",
    "    \n",
    "    \n",
    "    def update(self, state, action, reward, next_state, done):\n",
    "        \"\"\"\n",
    "        Makes an update step of algorithm and append sars to buffer replay\n",
    "        \n",
    "        Params:\n",
    "        -------\n",
    "        state - current state\n",
    "        action - action made\n",
    "        reward - reward for an action\n",
    "        next_state - next state from env\n",
    "        done - episode finishing flag\n",
    "        \"\"\"\n",
    "        priority = self.get_priority(state, next_state, action, reward, float(done))\n",
    "        self.buffer.append((state, next_state, action, reward, float(done), priority))\n",
    "        \n",
    "        self.step = (self.step+1)%UPDATE_STEP\n",
    "        if self.step == 0:\n",
    "            if len(self.buffer) > BATCH_SIZE:\n",
    "                self.learn()\n",
    "                self.reset_target_network()\n",
    "        \n",
    "    def sample_batch(self): \n",
    "        \"\"\"\n",
    "        Samples batch of replay experience with priority\n",
    "        \"\"\"\n",
    "        distr = np.array(list(map(lambda x: x[-1], self.buffer)))\n",
    "        batch = random.choices(self.buffer, weights=distr, k=BATCH_SIZE)\n",
    "        f = lambda arr: torch.from_numpy(np.vstack(arr)).float()\n",
    "        states, next_states, actions, rewards, dones, priorities = map(f, zip(*batch))\n",
    "        probs = priorities**ALPHA/sum(distr**ALPHA)\n",
    "        weights = 1/(BUFFER_SIZE*probs)**BETA\n",
    "        weights = weights/weights.max()\n",
    "        return states, next_states, actions, rewards, dones, weights\n",
    "    \n",
    "    def get_priority(self, state, next_state, action, reward, done):\n",
    "        \"\"\"\n",
    "        Computes priority of a given expirience tuple\n",
    "        \"\"\"\n",
    "        with torch.no_grad():\n",
    "            value = self.qnetwork_target.forward(torch.from_numpy(next_state).float()).detach()\n",
    "            target = reward + GAMMA * value.max() * (1 - done)\n",
    "            output = self.qnetwork_local.forward(torch.from_numpy(state).float())[action]\n",
    "        return torch.abs(target - output).detach().numpy() + E"
   ]
  },
  {
   "cell_type": "code",
   "execution_count": 21,
   "metadata": {},
   "outputs": [
    {
     "name": "stdout",
     "output_type": "stream",
     "text": [
      "Episode: 100. Average score: 0.46\n",
      "Episode: 200. Average score: 3.04\n",
      "Episode: 300. Average score: 6.59\n",
      "Episode: 400. Average score: 9.55\n",
      "Episode: 500. Average score: 12.56\n"
     ]
    },
    {
     "data": {
      "image/png": "[encoded data removed]",
      "text/plain": [
       "<Figure size 432x288 with 1 Axes>"
      ]
     },
     "metadata": {
      "needs_background": "light"
     },
     "output_type": "display_data"
    }
   ],
   "source": [
    "dqnpr_agent = DQNPRAgent(state_size, action_size)\n",
    "run_episodes_and_display(dqnpr_agent, n_episodes=500)"
   ]
  },
  {
   "cell_type": "code",
   "execution_count": 22,
   "metadata": {},
   "outputs": [],
   "source": [
    "env.close()"
   ]
  }
 ],
 "metadata": {
  "kernelspec": {
   "display_name": "Python 3",
   "language": "python",
   "name": "python3"
  },
  "language_info": {
   "codemirror_mode": {
    "name": "ipython",
    "version": 3
   },
   "file_extension": ".py",
   "mimetype": "text/x-python",
   "name": "python",
   "nbconvert_exporter": "python",
   "pygments_lexer": "ipython3",
   "version": "3.6.12"
  }
 },
 "nbformat": 4,
 "nbformat_minor": 2
}
