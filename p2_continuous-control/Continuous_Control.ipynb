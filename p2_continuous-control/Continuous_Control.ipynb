{
 "cells": [
  {
   "cell_type": "markdown",
   "metadata": {},
   "source": [
    "# Continuous Control\n",
    "\n",
    "---\n",
    "\n",
    "You are welcome to use this coding environment to train your agent for the project.  Follow the instructions below to get started!\n",
    "\n",
    "### 1. Start the Environment\n",
    "\n",
    "Run the next code cell to install a few packages.  This line will take a few minutes to run!"
   ]
  },
  {
   "cell_type": "markdown",
   "metadata": {},
   "source": [
    "The environments corresponding to both versions of the environment are already saved in the Workspace and can be accessed at the file paths provided below.  \n",
    "\n",
    "Please select one of the two options below for loading the environment."
   ]
  },
  {
   "cell_type": "code",
   "execution_count": 1,
   "metadata": {},
   "outputs": [
    {
     "name": "stderr",
     "output_type": "stream",
     "text": [
      "INFO:unityagents:\n",
      "'Academy' started successfully!\n",
      "Unity Academy name: Academy\n",
      "        Number of Brains: 1\n",
      "        Number of External Brains : 1\n",
      "        Lesson number : 0\n",
      "        Reset Parameters :\n",
      "\t\tgoal_speed -> 1.0\n",
      "\t\tgoal_size -> 5.0\n",
      "Unity brain name: ReacherBrain\n",
      "        Number of Visual Observations (per agent): 0\n",
      "        Vector Observation space type: continuous\n",
      "        Vector Observation space size (per agent): 33\n",
      "        Number of stacked Vector Observation: 1\n",
      "        Vector Action space type: continuous\n",
      "        Vector Action space size (per agent): 4\n",
      "        Vector Action descriptions: , , , \n"
     ]
    }
   ],
   "source": [
    "from unityagents import UnityEnvironment\n",
    "import numpy as np\n",
    "\n",
    "# Load version 2 (with 20 agents) of the environment\n",
    "env = UnityEnvironment(file_name='Reacher.app')"
   ]
  },
  {
   "cell_type": "markdown",
   "metadata": {},
   "source": [
    "Environments contain **_brains_** which are responsible for deciding the actions of their associated agents. Here we check for the first brain available, and set it as the default brain we will be controlling from Python."
   ]
  },
  {
   "cell_type": "code",
   "execution_count": 2,
   "metadata": {},
   "outputs": [],
   "source": [
    "# get the default brain\n",
    "brain_name = env.brain_names[0]\n",
    "brain = env.brains[brain_name]"
   ]
  },
  {
   "cell_type": "markdown",
   "metadata": {},
   "source": [
    "### 2. Examine the State and Action Spaces\n",
    "\n",
    "Run the code cell below to print some information about the environment."
   ]
  },
  {
   "cell_type": "code",
   "execution_count": 3,
   "metadata": {},
   "outputs": [
    {
     "name": "stdout",
     "output_type": "stream",
     "text": [
      "Number of agents: 20\n",
      "Size of each action: 4\n",
      "There are 20 agents. Each observes a state with length: 33\n",
      "The state for the first agent looks like: [ 0.00000000e+00 -4.00000000e+00  0.00000000e+00  1.00000000e+00\n",
      " -0.00000000e+00 -0.00000000e+00 -4.37113883e-08  0.00000000e+00\n",
      "  0.00000000e+00  0.00000000e+00  0.00000000e+00  0.00000000e+00\n",
      "  0.00000000e+00  0.00000000e+00 -1.00000000e+01  0.00000000e+00\n",
      "  1.00000000e+00 -0.00000000e+00 -0.00000000e+00 -4.37113883e-08\n",
      "  0.00000000e+00  0.00000000e+00  0.00000000e+00  0.00000000e+00\n",
      "  0.00000000e+00  0.00000000e+00  5.75471878e+00 -1.00000000e+00\n",
      "  5.55726624e+00  0.00000000e+00  1.00000000e+00  0.00000000e+00\n",
      " -1.68164849e-01]\n"
     ]
    }
   ],
   "source": [
    "# reset the environment\n",
    "env_info = env.reset(train_mode=True)[brain_name]\n",
    "\n",
    "# number of agents\n",
    "num_agents = len(env_info.agents)\n",
    "print('Number of agents:', num_agents)\n",
    "\n",
    "# size of each action\n",
    "action_size = brain.vector_action_space_size\n",
    "print('Size of each action:', action_size)\n",
    "\n",
    "# examine the state space \n",
    "states = env_info.vector_observations\n",
    "state_size = states.shape[1]\n",
    "print('There are {} agents. Each observes a state with length: {}'.format(states.shape[0], state_size))\n",
    "print('The state for the first agent looks like:', states[0])"
   ]
  },
  {
   "cell_type": "markdown",
   "metadata": {},
   "source": [
    "### 3. Take Random Actions in the Environment\n",
    "\n",
    "In the next code cell, you will learn how to use the Python API to control the agent and receive feedback from the environment.\n",
    "\n",
    "Note that **in this coding environment, you will not be able to watch the agents while they are training**, and you should set `train_mode=True` to restart the environment."
   ]
  },
  {
   "cell_type": "code",
   "execution_count": 4,
   "metadata": {},
   "outputs": [
    {
     "name": "stdout",
     "output_type": "stream",
     "text": [
      "Total score (averaged over agents) this episode: 0.08799999803304673\n"
     ]
    }
   ],
   "source": [
    "env_info = env.reset(train_mode=True)[brain_name]      # reset the environment    \n",
    "states = env_info.vector_observations                  # get the current state (for each agent)\n",
    "scores = np.zeros(num_agents)                          # initialize the score (for each agent)\n",
    "while True:\n",
    "    actions = np.random.randn(num_agents, action_size) # select an action (for each agent)\n",
    "    actions = np.clip(actions, -1, 1)                  # all actions between -1 and 1\n",
    "    env_info = env.step(actions)[brain_name]           # send all actions to tne environment\n",
    "    next_states = env_info.vector_observations         # get next state (for each agent)\n",
    "    rewards = env_info.rewards                         # get reward (for each agent)\n",
    "    dones = env_info.local_done                        # see if episode finished\n",
    "    scores += env_info.rewards                         # update the score (for each agent)\n",
    "    states = next_states                               # roll over states to next time step\n",
    "    if np.any(dones):                                  # exit loop if episode finished\n",
    "        break\n",
    "print('Total score (averaged over agents) this episode: {}'.format(np.mean(scores)))"
   ]
  },
  {
   "cell_type": "markdown",
   "metadata": {},
   "source": [
    "### 4. It's Your Turn!\n",
    "\n",
    "Now it's your turn to train your own agent to solve the environment!  A few **important notes**:\n",
    "- When training the environment, set `train_mode=True`, so that the line for resetting the environment looks like the following:\n",
    "```python\n",
    "env_info = env.reset(train_mode=True)[brain_name]\n",
    "```\n",
    "- To structure your work, you're welcome to work directly in this Jupyter notebook, or you might like to start over with a new file!  You can see the list of files in the workspace by clicking on **_Jupyter_** in the top left corner of the notebook.\n",
    "- In this coding environment, you will not be able to watch the agents while they are training.  However, **_after training the agents_**, you can download the saved model weights to watch the agents on your own machine! "
   ]
  },
  {
   "cell_type": "code",
   "execution_count": 5,
   "metadata": {},
   "outputs": [],
   "source": [
    "import torch\n",
    "import torch.nn as nn\n",
    "import torch.nn.functional as F\n",
    "from torch.distributions.multivariate_normal import MultivariateNormal\n",
    "\n",
    "\n",
    "class ActorNetwork(nn.Module):\n",
    "    \"\"\"\n",
    "    Actor is a policy network. Given state it evaluates \n",
    "    probability of action given state or sample an action\n",
    "    \"\"\"\n",
    "    def __init__(self, state_size, action_size, seed=42, hidden_size1=64, hidden_size2=64):\n",
    "        super(ActorNetwork, self).__init__()\n",
    "        self.seed = torch.manual_seed(seed)\n",
    "        self.layer1 = nn.Linear(state_size, hidden_size1)\n",
    "        self.layer2 = nn.Linear(hidden_size1, hidden_size2)\n",
    "        self.mu = nn.Linear(hidden_size2, action_size)\n",
    "        self.sigma = nn.Linear(hidden_size2, action_size)\n",
    "\n",
    "    def forward(self, states, actions=None):\n",
    "        x = torch.tanh(self.layer1(states))\n",
    "        x = torch.tanh(self.layer2(x))\n",
    "        mu = torch.tanh(self.mu(x)) # To keep actions in [-1, 1]\n",
    "        cov = F.softplus(self.sigma(x)) # Make matrix positive definite\n",
    "        cov = torch.diag_embed(cov) # Distibute covariances\n",
    "        action_dist = MultivariateNormal(mu, cov)\n",
    "        actions = actions if actions is not None else action_dist.sample()\n",
    "        action_log_prob = action_dist.log_prob(actions)\n",
    "        entropy = action_dist.entropy()\n",
    "        return actions.detach(), action_log_prob.unsqueeze(1), entropy"
   ]
  },
  {
   "cell_type": "code",
   "execution_count": 6,
   "metadata": {},
   "outputs": [],
   "source": [
    "class CriticNetwork(nn.Module):\n",
    "    \"\"\"\n",
    "    Critic network estimates value function\n",
    "    \"\"\"\n",
    "\n",
    "    def __init__(self, state_size, seed=42, hidden_size1=64, hidden_size2=64):\n",
    "        super(CriticNetwork, self).__init__()\n",
    "        self.seed = torch.manual_seed(seed)\n",
    "        self.layer1 = nn.Linear(state_size, hidden_size1)\n",
    "        self.layer2 = nn.Linear(hidden_size1, hidden_size2)\n",
    "        self.layer3 = nn.Linear(hidden_size2, 1)\n",
    "\n",
    "    def forward(self, states):\n",
    "        x = F.relu(self.layer1(states))\n",
    "        x = F.relu(self.layer2(x))\n",
    "        return self.layer3(x)"
   ]
  },
  {
   "cell_type": "code",
   "execution_count": 7,
   "metadata": {},
   "outputs": [],
   "source": [
    "class ActorCritic(nn.Module):\n",
    "    \"\"\"\n",
    "    Actor-critic model\n",
    "    \"\"\"\n",
    "    \n",
    "    def __init__(self, state_size, action_size):\n",
    "        super(ActorCritic, self).__init__()\n",
    "        self.actor = ActorNetwork(state_size, action_size)\n",
    "        self.critic = CriticNetwork(state_size)\n",
    "        \n",
    "    def act(self, states):\n",
    "        actions, _, _ = self.actor.forward(states, None)\n",
    "        return actions\n",
    "    \n",
    "    def evaluate(self, states, actions):\n",
    "        _, logprobs, entropy = self.actor.forward(states, actions)\n",
    "        values = self.critic.forward(states)\n",
    "        return values, logprobs, entropy"
   ]
  },
  {
   "cell_type": "code",
   "execution_count": 8,
   "metadata": {},
   "outputs": [
    {
     "name": "stdout",
     "output_type": "stream",
     "text": [
      "cpu\n"
     ]
    }
   ],
   "source": [
    "device = torch.device(\"cuda:0\" if torch.cuda.is_available() else \"cpu\")\n",
    "print(device)\n",
    "\n",
    "class Memory():\n",
    "    \"\"\"\n",
    "    Memory buffer for saving trajectories\n",
    "    \"\"\"\n",
    "    \n",
    "    def __init__(self):\n",
    "        self.states = []\n",
    "        self.next_states = []\n",
    "        self.actions = []\n",
    "        self.rewards = []\n",
    "        self.dones = []\n",
    "    \n",
    "    def clear(self):\n",
    "        del self.states[:]\n",
    "        del self.next_states[:]\n",
    "        del self.actions[:]\n",
    "        del self.rewards[:]\n",
    "        del self.dones[:]\n",
    "        \n",
    "    def get_trajectory(self, actor_i):\n",
    "        to_torch = lambda arr: torch.from_numpy(arr).to(device).float()\n",
    "        actor_slice = lambda arr: np.array([a[actor_i] for a in arr])\n",
    "        actions = to_torch(actor_slice(self.actions))\n",
    "        states = to_torch(actor_slice(self.states))\n",
    "        next_states = to_torch(actor_slice(self.next_states))\n",
    "        rewards = actor_slice(self.rewards).reshape(-1, 1)\n",
    "        dones = actor_slice(self.dones).reshape(-1, 1)\n",
    "        return states, actions, rewards, next_states, dones"
   ]
  },
  {
   "cell_type": "markdown",
   "metadata": {},
   "source": [
    "## PPO agent\n",
    "\n",
    "I implemented proximal policy optimization method actor-critic style clipping surrogate loss and generalized advances estimator. See for the reference paper [here](https://storage.googleapis.com/deepmind-media/dqn/DQNNaturePaper.pdf).\n",
    "\n",
    "#### Algorithm used:  \n",
    "<p><img src=\"ppo.png\" width=\"500\"/></p>\n",
    "</br>\n",
    "\n",
    "#### Clipping suroogate loss for policy optimization:  \n",
    "<p><img src=\"clipping.png\" width=\"300\"/></p>  \n",
    "\n",
    "#### Generalized advances estimator formula used:  \n",
    "<p><img src=\"gae.png\" width=\"300\"/></p>  \n",
    "</br>"
   ]
  },
  {
   "cell_type": "code",
   "execution_count": 9,
   "metadata": {},
   "outputs": [],
   "source": [
    "class PPOAgent():\n",
    "    \n",
    "    def __init__(self, action_size, state_size, n_actors, actor_critic=None, T=128, K_epochs=10, lr=5e-4, \n",
    "                 lamb=0.8, gamma=0.97, eps=0.2, c1 = 0.5, c2 = 0.01):\n",
    "        \"\"\"Initializes agent object\n",
    "        \n",
    "        Args:\n",
    "         action_size - action space dimensions\n",
    "         state_size - state space dimensions\n",
    "         n_actors - number of actors, equals to number of distriburted envirionments\n",
    "         actor_critic - pretrained actor-critic network\n",
    "         T - time steps to collect before agent updating\n",
    "         K_epochs - number of steps while optimizing networcs\n",
    "         lr - learning rate for Adam optimizer\n",
    "         lamb - smoothing parameter for generalized advantage estimator\n",
    "         gamma - decay\n",
    "         eps - clipping threshold\n",
    "         c1 - weight for critic loss\n",
    "         c2 - weight for entropy loss\n",
    "         \n",
    "        \"\"\"\n",
    "        self.policy = ActorCritic(state_size, action_size).to(device)\n",
    "        if actor_critic is not None:\n",
    "            self.policy.load_state_dict(actor_critic.state_dict())\n",
    "            \n",
    "        self.policy_old = ActorCritic(state_size, action_size).to(device)\n",
    "        self.policy_old.load_state_dict(self.policy.state_dict())\n",
    "        self.memory = Memory()\n",
    "        self.n_actors = n_actors\n",
    "        self.T = T\n",
    "        self.K_epochs = K_epochs\n",
    "        self.c1 = c1\n",
    "        self.c2 = c2\n",
    "        self.lamb = lamb\n",
    "        self.gamma = gamma\n",
    "        self.epsilon = eps\n",
    "        self.mse_loss = nn.MSELoss()\n",
    "        self.optimizer = torch.optim.Adam(self.policy.parameters(), lr=lr)\n",
    "\n",
    "    def act(self, states):\n",
    "        \"\"\"Takes actions given batch of states\n",
    "        \n",
    "        Args:\n",
    "         states - a batch of states\n",
    "        \n",
    "        Returns:\n",
    "         actions - a batch of actions generated given states\n",
    "        \"\"\"\n",
    "        states = torch.from_numpy(states).float().to(device)\n",
    "        with torch.no_grad():\n",
    "            actions = self.policy_old.act(states)\n",
    "            return actions.detach().cpu().numpy()\n",
    "    \n",
    "    def update(self, states, actions, rewards, next_states, dones):\n",
    "        \"\"\"Updates actor critic network\n",
    "        \n",
    "        Args:\n",
    "         states - states for parallel agents, shape [n_agents x state_size]\n",
    "         actions - actions for parallel agents, shape [n_agents x action_size]\n",
    "         rewards - rewards for parallel agents, shape [n_agents x 1]\n",
    "         next_states - next states for parallel agents, shape [n_agents x state_size]\n",
    "         dones - edisode finishing flags for parallel agents, shape [n_agents x 1]\n",
    "         \n",
    "        \"\"\"\n",
    "              \n",
    "        # Add to memory untill collect trajectories of length memory_size\n",
    "        if len(self.memory.states) < self.T:\n",
    "            self.memory.actions.append(actions)\n",
    "            self.memory.states.append(states)\n",
    "            self.memory.rewards.append(rewards)\n",
    "            self.memory.next_states.append(next_states)\n",
    "            self.memory.dones.append(dones)\n",
    "            return\n",
    "                \n",
    "        # Optimize   \n",
    "        for _ in range(self.K_epochs):\n",
    "            loss = self._compute_loss()\n",
    "            self.optimizer.zero_grad()\n",
    "            loss.backward()\n",
    "            self.optimizer.step()\n",
    "        self.policy_old.load_state_dict(self.policy.state_dict())\n",
    "        self.memory.clear()\n",
    "    \n",
    "    def save(self, f):\n",
    "        \"\"\"Saves policy network to file\n",
    "        \n",
    "        Args:\n",
    "         f - output file  \n",
    "        \"\"\"\n",
    "        torch.save(self.policy.state_dict(), f)\n",
    "        \n",
    "\n",
    "    def _compute_loss(self):\n",
    "        \n",
    "        # Iterate over actors and create batch\n",
    "        loss = 0\n",
    "        for actor_i in range(self.n_actors):\n",
    "            \n",
    "            states, actions, rewards, next_states, dones = self.memory.get_trajectory(actor_i)\n",
    "            rewards = (rewards - np.mean(rewards)) / (np.std(rewards) + 1e-5)\n",
    "            rewards_to_go = self._compute_rewards_to_go(rewards, dones)\n",
    "\n",
    "            values, logprobs, S = self.policy.evaluate(states, actions)\n",
    "            \n",
    "            with torch.no_grad():\n",
    "                values_old, logprobs_old, _ = self.policy_old.evaluate(states, actions)\n",
    "                values_next_old, _, _ = self.policy_old.evaluate(next_states, None)\n",
    "                values_old = values_old.detach().cpu().numpy()\n",
    "                values_next_old = values_next_old.detach().cpu().numpy()\n",
    "                \n",
    "            ratios = torch.exp(logprobs - logprobs_old.detach())\n",
    "            advantages = self._compute_advantages(rewards, values_old, values_next_old, dones)\n",
    "        \n",
    "            # Compute surrogate loss with clipping\n",
    "            s1 = ratios * advantages\n",
    "            s2 = torch.clamp(ratios, 1 - self.epsilon, 1 + self.epsilon) * advantages\n",
    "            L_clip = torch.min(s1, s2)\n",
    "\n",
    "            # Compute MSE loss for value functions\n",
    "            L_vf = self.mse_loss(values, rewards_to_go)\n",
    "            \n",
    "            # Combine losses\n",
    "            loss += -L_clip.mean() + self.c1*L_vf - self.c2*S.mean()\n",
    "            \n",
    "        return loss/self.n_actors\n",
    "    \n",
    "    def _compute_advantages(self, rewards, values, next_values, dones):\n",
    "        td_errors = rewards + self.gamma*next_values*(1-dones) - values\n",
    "        A, advantages = 0, []\n",
    "        for t in reversed(range(len(td_errors))):\n",
    "            A = td_errors[t] + (self.lamb * self.gamma)*A*(1-dones[t])\n",
    "            advantages.insert(0, A)\n",
    "        return torch.from_numpy(np.array(advantages)).float().to(device)\n",
    "        \n",
    " \n",
    "    def _compute_rewards_to_go(self, rewards, dones):\n",
    "        rewards_to_go = []\n",
    "        R = 0\n",
    "        for reward, done in zip(reversed(rewards), reversed(dones)):\n",
    "            R = reward + self.gamma * R * (1-done)\n",
    "            rewards_to_go.insert(0, R)\n",
    "        return torch.from_numpy(np.array(rewards_to_go)).float().reshape(-1, 1).to(device)"
   ]
  },
  {
   "cell_type": "code",
   "execution_count": 10,
   "metadata": {},
   "outputs": [],
   "source": [
    "import matplotlib.pyplot as plt\n",
    "%matplotlib inline\n",
    "\n",
    "def run_episode(agent, i, train_mode=True):\n",
    "    \"\"\"\n",
    "    A helper method to run single episode and print metrics\n",
    "    \n",
    "    \"\"\"\n",
    "    env_info = env.reset(train_mode)[brain_name]        \n",
    "    states = env_info.vector_observations                  \n",
    "    scores = np.zeros(num_agents)\n",
    "    step = 1\n",
    "    while True:\n",
    "        actions = agent.act(states) \n",
    "        env_info = env.step(actions)[brain_name]           \n",
    "        next_states = env_info.vector_observations         \n",
    "        rewards = env_info.rewards                         \n",
    "        dones = env_info.local_done  \n",
    "        agent.update(states, actions, rewards, next_states, dones)\n",
    "        scores += env_info.rewards\n",
    "        states = next_states\n",
    "        step += 1\n",
    "        if np.any(dones):   \n",
    "            break\n",
    "            \n",
    "    if i%10==0:\n",
    "        print('Total score (averaged over agents) episode {}: {}'.format(i, np.mean(scores)))\n",
    "    return np.mean(scores)\n",
    "\n",
    "def run_episodes_and_display(agent, n_episodes=200):\n",
    "    \"\"\"\n",
    "    Runs a series of episode and display agent's performance\n",
    "    \n",
    "    \"\"\"\n",
    "    \n",
    "    display_step = 100\n",
    "    score = 0\n",
    "    score_sum = 0\n",
    "    scores = []\n",
    "    for episode in range(1, n_episodes+1):\n",
    "        score = run_episode(agent, episode, train_mode=True)\n",
    "        score_sum += score\n",
    "        scores.append(score)\n",
    "        if episode%display_step==0:\n",
    "            avg_score = score_sum/display_step\n",
    "            score_sum = 0\n",
    "            if avg_score > 30:\n",
    "                print(\"Environment is solved! Average score over 100 episodes > 30.\")\n",
    "                break\n",
    "            \n",
    "    fig = plt.figure()\n",
    "    plt.plot(np.arange(len(scores)), scores)\n",
    "    plt.ylabel('Max Score')\n",
    "    plt.xlabel('Episode #')\n",
    "    plt.show()"
   ]
  },
  {
   "cell_type": "code",
   "execution_count": 14,
   "metadata": {
    "scrolled": false
   },
   "outputs": [
    {
     "name": "stdout",
     "output_type": "stream",
     "text": [
      "Total score (averaged over agents) episode 10: 1.328499970305711\n",
      "Total score (averaged over agents) episode 20: 4.38949990188703\n",
      "Total score (averaged over agents) episode 30: 8.47149981064722\n",
      "Total score (averaged over agents) episode 40: 17.693499604519456\n",
      "Total score (averaged over agents) episode 50: 21.987999508529903\n",
      "Total score (averaged over agents) episode 60: 27.79149937881157\n",
      "Total score (averaged over agents) episode 70: 34.186999235861\n",
      "Total score (averaged over agents) episode 80: 38.459499140363185\n",
      "Total score (averaged over agents) episode 90: 38.6669991357252\n",
      "Total score (averaged over agents) episode 100: 38.80599913261831\n",
      "Total score (averaged over agents) episode 110: 38.03999914973974\n",
      "Total score (averaged over agents) episode 120: 38.75849913368002\n",
      "Total score (averaged over agents) episode 130: 38.71499913465232\n",
      "Total score (averaged over agents) episode 140: 38.54699913840741\n",
      "Total score (averaged over agents) episode 150: 38.87449913108721\n",
      "Total score (averaged over agents) episode 160: 38.91999913007021\n",
      "Total score (averaged over agents) episode 170: 38.54549913844094\n",
      "Total score (averaged over agents) episode 180: 38.63599913641811\n",
      "Total score (averaged over agents) episode 190: 38.56849913792685\n",
      "Total score (averaged over agents) episode 200: 38.8679991312325\n",
      "Environment is solved! Average score over 100 episodes > 30.\n"
     ]
    },
    {
     "data": {
      "image/png": "[encoded data removed]",
      "text/plain": [
       "<Figure size 432x288 with 1 Axes>"
      ]
     },
     "metadata": {
      "needs_background": "light"
     },
     "output_type": "display_data"
    },
    {
     "name": "stdout",
     "output_type": "stream",
     "text": [
      "CPU times: user 40min 57s, sys: 3min 31s, total: 44min 28s\n",
      "Wall time: 46min 53s\n"
     ]
    }
   ],
   "source": [
    "%%time\n",
    "\n",
    "agent = PPOAgent(action_size, state_size, num_agents, \n",
    "                 T=512, \n",
    "                 K_epochs=20, \n",
    "                 lr=5e-4, \n",
    "                 gamma=0.99, \n",
    "                 lamb=0.99, \n",
    "                 eps=0.2, \n",
    "                 c1=0.5, \n",
    "                 c2=0.01)\n",
    "\n",
    "run_episodes_and_display(agent, n_episodes = 300)"
   ]
  },
  {
   "cell_type": "code",
   "execution_count": 15,
   "metadata": {},
   "outputs": [],
   "source": [
    "agent.save(\"./actor_critic.pt\")"
   ]
  },
  {
   "cell_type": "code",
   "execution_count": 16,
   "metadata": {},
   "outputs": [],
   "source": [
    "env.close()"
   ]
  },
  {
   "cell_type": "markdown",
   "metadata": {},
   "source": [
    "## Further work\n",
    "\n",
    "This implementation of algorithm is not optimal and can be improved at least in two ways:\n",
    "1) I used loop over agents to calculate loss functions. This can be done rather in batch mode without for loop.  \n",
    "2) I evaluate values of states and next_states separately so I need to forward propagate critic network twice. This can be done in one pass some way.  \n",
    "  \n",
    "  \n",
    "I also may try different loss e.g. with KL-divergence regulariztion and also search for better parameters of clipping, entropy and critic loss weights.  \n",
    "Also different variations of network architectures can be used as further imporvement.\n"
   ]
  },
  {
   "cell_type": "code",
   "execution_count": null,
   "metadata": {},
   "outputs": [],
   "source": []
  }
 ],
 "metadata": {
  "kernelspec": {
   "display_name": "Python 3",
   "language": "python",
   "name": "python3"
  },
  "language_info": {
   "codemirror_mode": {
    "name": "ipython",
    "version": 3
   },
   "file_extension": ".py",
   "mimetype": "text/x-python",
   "name": "python",
   "nbconvert_exporter": "python",
   "pygments_lexer": "ipython3",
   "version": "3.6.12"
  }
 },
 "nbformat": 4,
 "nbformat_minor": 2
}
