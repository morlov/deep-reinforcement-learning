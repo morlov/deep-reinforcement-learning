{
 "cells": [
  {
   "cell_type": "markdown",
   "metadata": {},
   "source": [
    "# Collaboration and Competition\n",
    "\n",
    "---\n",
    "\n",
    "In this notebook, you will learn how to use the Unity ML-Agents environment for the third project of the [Deep Reinforcement Learning Nanodegree](https://www.udacity.com/course/deep-reinforcement-learning-nanodegree--nd893) program.\n",
    "\n",
    "### 1. Start the Environment\n",
    "\n",
    "We begin by importing the necessary packages.  If the code cell below returns an error, please revisit the project instructions to double-check that you have installed [Unity ML-Agents](https://github.com/Unity-Technologies/ml-agents/blob/master/docs/Installation.md) and [NumPy](http://www.numpy.org/)."
   ]
  },
  {
   "cell_type": "code",
   "execution_count": 1,
   "metadata": {},
   "outputs": [],
   "source": [
    "from unityagents import UnityEnvironment\n",
    "import numpy as np"
   ]
  },
  {
   "cell_type": "markdown",
   "metadata": {},
   "source": [
    "Next, we will start the environment!  **_Before running the code cell below_**, change the `file_name` parameter to match the location of the Unity environment that you downloaded.\n",
    "\n",
    "- **Mac**: `\"path/to/Tennis.app\"`\n",
    "- **Windows** (x86): `\"path/to/Tennis_Windows_x86/Tennis.exe\"`\n",
    "- **Windows** (x86_64): `\"path/to/Tennis_Windows_x86_64/Tennis.exe\"`\n",
    "- **Linux** (x86): `\"path/to/Tennis_Linux/Tennis.x86\"`\n",
    "- **Linux** (x86_64): `\"path/to/Tennis_Linux/Tennis.x86_64\"`\n",
    "- **Linux** (x86, headless): `\"path/to/Tennis_Linux_NoVis/Tennis.x86\"`\n",
    "- **Linux** (x86_64, headless): `\"path/to/Tennis_Linux_NoVis/Tennis.x86_64\"`\n",
    "\n",
    "For instance, if you are using a Mac, then you downloaded `Tennis.app`.  If this file is in the same folder as the notebook, then the line below should appear as follows:\n",
    "```\n",
    "env = UnityEnvironment(file_name=\"Tennis.app\")\n",
    "```"
   ]
  },
  {
   "cell_type": "code",
   "execution_count": 3,
   "metadata": {},
   "outputs": [
    {
     "name": "stderr",
     "output_type": "stream",
     "text": [
      "INFO:unityagents:\n",
      "'Academy' started successfully!\n",
      "Unity Academy name: Academy\n",
      "        Number of Brains: 1\n",
      "        Number of External Brains : 1\n",
      "        Lesson number : 0\n",
      "        Reset Parameters :\n",
      "\t\t\n",
      "Unity brain name: TennisBrain\n",
      "        Number of Visual Observations (per agent): 0\n",
      "        Vector Observation space type: continuous\n",
      "        Vector Observation space size (per agent): 8\n",
      "        Number of stacked Vector Observation: 3\n",
      "        Vector Action space type: continuous\n",
      "        Vector Action space size (per agent): 2\n",
      "        Vector Action descriptions: , \n"
     ]
    }
   ],
   "source": [
    "env = UnityEnvironment(file_name=\"Tennis.app\")"
   ]
  },
  {
   "cell_type": "markdown",
   "metadata": {},
   "source": [
    "Environments contain **_brains_** which are responsible for deciding the actions of their associated agents. Here we check for the first brain available, and set it as the default brain we will be controlling from Python."
   ]
  },
  {
   "cell_type": "code",
   "execution_count": 4,
   "metadata": {},
   "outputs": [],
   "source": [
    "# get the default brain\n",
    "brain_name = env.brain_names[0]\n",
    "brain = env.brains[brain_name]"
   ]
  },
  {
   "cell_type": "markdown",
   "metadata": {},
   "source": [
    "### 2. Examine the State and Action Spaces\n",
    "\n",
    "In this environment, two agents control rackets to bounce a ball over a net. If an agent hits the ball over the net, it receives a reward of +0.1.  If an agent lets a ball hit the ground or hits the ball out of bounds, it receives a reward of -0.01.  Thus, the goal of each agent is to keep the ball in play.\n",
    "\n",
    "The observation space consists of 8 variables corresponding to the position and velocity of the ball and racket. Two continuous actions are available, corresponding to movement toward (or away from) the net, and jumping. \n",
    "\n",
    "Run the code cell below to print some information about the environment."
   ]
  },
  {
   "cell_type": "code",
   "execution_count": 5,
   "metadata": {},
   "outputs": [
    {
     "name": "stdout",
     "output_type": "stream",
     "text": [
      "Number of agents: 2\n",
      "Size of each action: 2\n",
      "There are 2 agents. Each observes a state with length: 24\n",
      "The state for the first agent looks like: [ 0.          0.          0.          0.          0.          0.\n",
      "  0.          0.          0.          0.          0.          0.\n",
      "  0.          0.          0.          0.         -6.65278625 -1.5\n",
      " -0.          0.          6.83172083  6.         -0.          0.        ]\n"
     ]
    }
   ],
   "source": [
    "# reset the environment\n",
    "env_info = env.reset(train_mode=True)[brain_name]\n",
    "\n",
    "# number of agents \n",
    "num_agents = len(env_info.agents)\n",
    "print('Number of agents:', num_agents)\n",
    "\n",
    "# size of each action\n",
    "action_size = brain.vector_action_space_size\n",
    "print('Size of each action:', action_size)\n",
    "\n",
    "# examine the state space \n",
    "states = env_info.vector_observations\n",
    "state_size = states.shape[1]\n",
    "print('There are {} agents. Each observes a state with length: {}'.format(states.shape[0], state_size))\n",
    "print('The state for the first agent looks like:', states[0])"
   ]
  },
  {
   "cell_type": "markdown",
   "metadata": {},
   "source": [
    "### 3. Take Random Actions in the Environment\n",
    "\n",
    "In the next code cell, you will learn how to use the Python API to control the agents and receive feedback from the environment.\n",
    "\n",
    "Once this cell is executed, you will watch the agents' performance, if they select actions at random with each time step.  A window should pop up that allows you to observe the agents.\n",
    "\n",
    "Of course, as part of the project, you'll have to change the code so that the agents are able to use their experiences to gradually choose better actions when interacting with the environment!"
   ]
  },
  {
   "cell_type": "code",
   "execution_count": 6,
   "metadata": {},
   "outputs": [
    {
     "name": "stdout",
     "output_type": "stream",
     "text": [
      "Score (max over agents) from episode 1: 0.0\n",
      "Score (max over agents) from episode 2: 0.10000000149011612\n",
      "Score (max over agents) from episode 3: 0.0\n",
      "Score (max over agents) from episode 4: 0.0\n",
      "Score (max over agents) from episode 5: 0.0\n"
     ]
    }
   ],
   "source": [
    "for i in range(1, 6):                                      # play game for 5 episodes\n",
    "    env_info = env.reset(train_mode=False)[brain_name]     # reset the environment    \n",
    "    states = env_info.vector_observations                  # get the current state (for each agent)\n",
    "    scores = np.zeros(num_agents)                          # initialize the score (for each agent)\n",
    "    while True:\n",
    "        actions = np.random.randn(num_agents, action_size) # select an action (for each agent)\n",
    "        actions = np.clip(actions, -1, 1)                  # all actions between -1 and 1\n",
    "        env_info = env.step(actions)[brain_name]           # send all actions to tne environment\n",
    "        next_states = env_info.vector_observations         # get next state (for each agent)\n",
    "        rewards = env_info.rewards                         # get reward (for each agent)\n",
    "        dones = env_info.local_done                        # see if episode finished\n",
    "        scores += env_info.rewards                         # update the score (for each agent)\n",
    "        states = next_states                               # roll over states to next time step\n",
    "        if np.any(dones):                                  # exit loop if episode finished\n",
    "            break\n",
    "    print('Score (max over agents) from episode {}: {}'.format(i, np.max(scores)))"
   ]
  },
  {
   "cell_type": "markdown",
   "metadata": {},
   "source": [
    "When finished, you can close the environment."
   ]
  },
  {
   "cell_type": "code",
   "execution_count": 7,
   "metadata": {},
   "outputs": [],
   "source": [
    "# env.close()"
   ]
  },
  {
   "cell_type": "markdown",
   "metadata": {},
   "source": [
    "### 4. It's Your Turn!\n",
    "\n",
    "Now it's your turn to train your own agent to solve the environment!  When training the environment, set `train_mode=True`, so that the line for resetting the environment looks like the following:\n",
    "```python\n",
    "env_info = env.reset(train_mode=True)[brain_name]\n",
    "```"
   ]
  },
  {
   "cell_type": "code",
   "execution_count": 8,
   "metadata": {},
   "outputs": [],
   "source": [
    "import torch\n",
    "import torch.nn as nn\n",
    "import torch.nn.functional as F\n",
    "from torch.distributions.multivariate_normal import MultivariateNormal\n",
    "\n",
    "\n",
    "class Actor(nn.Module):\n",
    "    \"\"\"\n",
    "    Actor is a policy network. Given state it generates an action.\n",
    "    \"\"\"\n",
    "\n",
    "    def __init__(self, state_size, action_size, seed=42, hidden_size1=128, hidden_size2=128):\n",
    "        super(Actor, self).__init__()\n",
    "        self.seed = torch.manual_seed(seed)\n",
    "        self.layer1 = nn.Linear(state_size, hidden_size1)\n",
    "        self.layer2 = nn.Linear(hidden_size1, hidden_size2)\n",
    "        self.layer3 = nn.Linear(hidden_size2, action_size)\n",
    "\n",
    "    def forward(self, states):\n",
    "        x = torch.tanh(self.layer1(states))\n",
    "        x = torch.tanh(self.layer2(x))\n",
    "        actions = torch.tanh(self.layer3(x)) \n",
    "        return actions\n",
    "\n",
    "class Critic(nn.Module):\n",
    "    \"\"\"\n",
    "    Critic network estimates value function for giver state and value.\n",
    "    \"\"\"\n",
    "\n",
    "    def __init__(self, state_size, action_size, seed=42, hidden_size1=128, hidden_size2=128):\n",
    "        super(Critic, self).__init__()\n",
    "        self.seed = torch.manual_seed(seed)\n",
    "        self.bn = nn.BatchNorm1d(num_features=state_size)\n",
    "        self.layer1 = nn.Linear(state_size, hidden_size1)\n",
    "        self.layer2 = nn.Linear(hidden_size1 + action_size, hidden_size2)\n",
    "        self.layer3 = nn.Linear(hidden_size2, 1)\n",
    "\n",
    "    def forward(self, states, actions):\n",
    "        x = self.bn(states) \n",
    "        x = F.relu(self.layer1(x))\n",
    "        x = torch.cat((x, actions), dim=1)\n",
    "        x = F.relu(self.layer2(x))\n",
    "        return self.layer3(x)"
   ]
  },
  {
   "cell_type": "code",
   "execution_count": 9,
   "metadata": {},
   "outputs": [],
   "source": [
    "from collections import deque\n",
    "import random\n",
    "device = torch.device(\"cuda:0\" if torch.cuda.is_available() else \"cpu\")\n",
    "\n",
    "class ReplayBuffer():\n",
    "    \"\"\"\n",
    "    Memory buffer for saving trajectories\n",
    "    \"\"\"\n",
    "    \n",
    "    def __init__(self, buffer_size, batch_size):\n",
    "        self.buffer = deque(maxlen=buffer_size)\n",
    "        self.batch_size = batch_size\n",
    "        self.buffer_size = buffer_size\n",
    "    \n",
    "    def add(self, states, actions, rewards, next_states, dones):\n",
    "        self.buffer.append((states, actions, rewards, next_states, dones))\n",
    "        \n",
    "    def sample(self):\n",
    "        batch = random.sample(self.buffer, k=self.batch_size)\n",
    "        f = lambda arr: torch.from_numpy(np.array(arr).astype(float)).float().to(device)\n",
    "        states, actions, rewards, next_states, dones = map(f, zip(*batch))\n",
    "        return states, actions, rewards, next_states, dones\n",
    "    \n",
    "    def is_enough(self):\n",
    "        return len(self.buffer) > self.batch_size"
   ]
  },
  {
   "cell_type": "markdown",
   "metadata": {},
   "source": [
    "# MADDPG Agent\n",
    "\n",
    "\n",
    "In this project I implemented MADDPG algorith discussed in [this](https://arxiv.org/pdf/1706.02275.pdf) paper. basic idea of the algorithm that multiagent uses different actors and critics for each separate single agents while actor uses local observation of agent and critic uses merged actions and states for all agents as input. This trick allows cordination of multiple agents keepeng them independend during actions. Algorithm is provided below\n",
    "\n",
    "#### Implementation details\n",
    "It is also worth mentioning some details of my implementations:  \n",
    "1) I used Gaussian noise at action time for exploration.  \n",
    "2) Batch normalize states in critic network to keep actions and states in comparable scale.  \n",
    "3) Used separate critics for each agent (shared critic can also be tried).  \n",
    "\n",
    "#### Algorithm\n",
    "\n",
    "<p><img align=left src=\"maddpg.png\" width=\"600\"/></p>\n",
    "\n"
   ]
  },
  {
   "cell_type": "code",
   "execution_count": 21,
   "metadata": {},
   "outputs": [],
   "source": [
    "class DDPGAgent():\n",
    "    \"\"\"This class implemets single agent for MADDPG algorithm.\n",
    "    \n",
    "    \"\"\"\n",
    "    \n",
    "    def __init__(self, action_size, state_size, num_agents, actor_lr, critic_lr, tau):\n",
    "        self.tau = tau\n",
    "        self.actor = Actor(state_size, action_size).to(device)\n",
    "        self.target_actor = Actor(state_size, action_size).to(device)\n",
    "        self.target_actor.load_state_dict(self.actor.state_dict())\n",
    "        self.critic = Critic(state_size*num_agents, action_size*num_agents).to(device)\n",
    "        self.target_critic = Critic(state_size*num_agents, action_size*num_agents).to(device)\n",
    "        self.target_critic.load_state_dict(self.critic.state_dict())\n",
    "        self.critic_optimizer = torch.optim.Adam(self.critic.parameters(), lr=critic_lr) \n",
    "        self.actor_optimizer = torch.optim.Adam(self.actor.parameters(), lr=actor_lr)\n",
    "        \n",
    "        \n",
    "    def act(self, states, target): \n",
    "        if target:\n",
    "            return self.target_actor.forward(states)\n",
    "        else:\n",
    "            return self.actor.forward(states)\n",
    "    \n",
    "    \n",
    "    def update_actor(self, states, actions):\n",
    "        self.actor_optimizer.zero_grad()\n",
    "        loss = -self.critic.forward(states, actions).mean()\n",
    "        loss.backward()\n",
    "        self.actor_optimizer.step()\n",
    "    \n",
    "    \n",
    "    def update_critic(self, states, actions, rewards, dones, next_states, next_actions, gamma):\n",
    "        self.critic_optimizer.zero_grad()\n",
    "        q_target = self.target_critic.forward(next_states, next_actions).detach()\n",
    "        y = rewards + gamma*(1-dones)*q_target\n",
    "        q = self.critic.forward(states, actions)\n",
    "        loss = F.mse_loss(q, y)\n",
    "        loss.backward()\n",
    "        torch.nn.utils.clip_grad_norm_(self.critic.parameters(), 1)\n",
    "        self.critic_optimizer.step()\n",
    "    \n",
    "\n",
    "    def update_target_networks(self):\n",
    "        critic_params = zip(self.target_critic.parameters(), self.critic.parameters())\n",
    "        for target_param, param in critic_params:\n",
    "            updated_params = self.tau*param.data + (1-self.tau)*target_param.data\n",
    "            target_param.data.copy_(updated_params)\n",
    "            \n",
    "        actor_params = zip(self.target_actor.parameters(), self.actor.parameters())\n",
    "        for target_param, param in actor_params:\n",
    "            updated_params = self.tau*param.data + (1-self.tau)*target_param.data\n",
    "            target_param.data.copy_(updated_params)\n",
    "            \n",
    "    \n",
    "                    \n",
    "\n",
    "class MADDPGAgent():\n",
    "    \n",
    "    def __init__(self, action_size, state_size, num_agents, update_every=10, epochs=1,\n",
    "                 buffer_size=1e5, batch_size=1000, actor_lr=1e-3, \n",
    "                 critic_lr=3e-4, gamma=0.99, tau=0.01, act_noise=0.1,\n",
    "                 noise_decay=0.99995, min_noise=0.01, train_mode=True):\n",
    "        \"\"\"Initializes agent object\n",
    "        \n",
    "        Args: \n",
    "            action_size - size of action space\n",
    "            state_size - size of state space \n",
    "            num_agents - number of agents \n",
    "            update_every - number of steps between updating networks \n",
    "            epochs - number of updates during network trading\n",
    "            buffer_size - size of replay buffer\n",
    "            batch_size - number of samples drawn from buffer fo training\n",
    "            actor_lr - learning rate for actor optimizer\n",
    "            critic_lr - learning rate for critic optimizer\n",
    "            gamma - discount factor\n",
    "            tau - soft update constant\n",
    "            act_noise - start dispersion of noise for exploration\n",
    "            noise_decay - how much noise is reduced at each step\n",
    "            min_noise -  minimal dispersion of action noise\n",
    "            train_mode - add noise and allow network updates when True\n",
    "            \n",
    "        \"\"\"\n",
    "        self.iter = 0\n",
    "        self.gamma = gamma\n",
    "        self.state_size = state_size\n",
    "        self.action_size = action_size\n",
    "        self.num_agents = num_agents\n",
    "        self.update_every = update_every\n",
    "        self.epochs = epochs\n",
    "        self.agents = [DDPGAgent(action_size, state_size, num_agents, actor_lr, critic_lr, tau)\n",
    "                       for _ in range(num_agents)]\n",
    "        \n",
    "        self.buffer_size = buffer_size\n",
    "        self.batch_size = batch_size\n",
    "        self.replay_buffer = ReplayBuffer(buffer_size, batch_size)\n",
    "        self.act_noise = act_noise\n",
    "        self.noise_decay = noise_decay\n",
    "        self.min_noise = min_noise\n",
    "        self.mse_loss = torch.nn.MSELoss()\n",
    "        self.train_mode = train_mode\n",
    "    \n",
    "\n",
    "    def act(self, states):\n",
    "        \"\"\"Takes actions given batch of states\n",
    "        \n",
    "        Args:\n",
    "         states - numpy array of states for each agent\n",
    "         \n",
    "        \"\"\"\n",
    "        actions = []\n",
    "        self.act_noise = max(self.noise_decay*self.act_noise, self.min_noise)\n",
    "        \n",
    "        for agent, state in zip(self.agents, states):\n",
    "            state = torch.from_numpy(np.array([state])).float().to(device)\n",
    "            agent.actor.eval()\n",
    "            action = agent.act(state, target=False)\n",
    "            agent.actor.train()\n",
    "            if self.train_mode:\n",
    "                action += self.act_noise*torch.randn(action.size()).to(device)\n",
    "            actions.append(action.detach().cpu().numpy())\n",
    "        return np.clip(np.vstack(actions), -1, 1)   \n",
    "        \n",
    "\n",
    "    def update(self, states, actions, rewards, next_states, dones):\n",
    "        \"\"\"Updates actor critic network\n",
    "        \n",
    "        Args:\n",
    "         states - numpy array of states for each agent, row per agent\n",
    "         actions - numpy array of actions for each agent\n",
    "         rewards - rewards of taking actions given states\n",
    "         next_states - state observed after action taken\n",
    "         dones - flags of episode end\n",
    "        \"\"\"\n",
    "        \n",
    "        if not self.train_mode:\n",
    "            return\n",
    "        \n",
    "        self.replay_buffer.add(states, actions, rewards, next_states, dones)\n",
    "        \n",
    "        if self.iter < self.update_every or not self.replay_buffer.is_enough():\n",
    "            self.iter += 1\n",
    "            return \n",
    "        \n",
    "        self.iter=0\n",
    "        for i, agent in enumerate(self.agents):\n",
    "            for _ in range(self.epochs):\n",
    "                self._update_agent(agent, i)\n",
    "            \n",
    "                    \n",
    "    def _update_agent(self, agent, i):\n",
    "        # Sample batch\n",
    "        states, actions, rewards, next_states, dones = self.replay_buffer.sample()\n",
    "\n",
    "        # Compute extended states and actions\n",
    "        state_size_full = self.state_size*self.num_agents\n",
    "        action_size_full = self.action_size*self.num_agents\n",
    "        \n",
    "        states_all = states.view(-1, state_size_full)\n",
    "        actions_all = actions.view(-1, action_size_full)\n",
    "        next_states_all = next_states.view(-1, state_size_full)\n",
    "        rewards = rewards[:, i].view(-1, 1) \n",
    "        dones = dones[:, i].view(-1, 1)\n",
    "        \n",
    "        next_actions = self._act_all(next_states, True, -1)\n",
    "        predicted_actions = self._act_all(states, False, i)\n",
    "\n",
    "        # Update agent networks\n",
    "        agent.update_critic(states_all, actions_all, rewards, dones, next_states_all, next_actions, self.gamma)\n",
    "        agent.update_actor(states_all, predicted_actions)\n",
    "        agent.update_target_networks()\n",
    "        \n",
    "            \n",
    "    def _act_all(self, states, target, i):\n",
    "        actions = []\n",
    "        for j, agent in enumerate(self.agents):\n",
    "            action = agent.act(states[:, j], target)\n",
    "            if i==j:\n",
    "                actions.append(action)\n",
    "            else:\n",
    "                actions.append(action.detach())\n",
    "        return torch.cat(actions, dim=1)"
   ]
  },
  {
   "cell_type": "code",
   "execution_count": 22,
   "metadata": {},
   "outputs": [],
   "source": [
    "import matplotlib.pyplot as plt\n",
    "import time\n",
    "%matplotlib inline\n",
    "\n",
    "def run_episode(agent, episode, train_mode=True):\n",
    "    \"\"\"\n",
    "    A helper method to run single episode and print metrics\n",
    "    \n",
    "    \"\"\"\n",
    "    agent.train_mode = train_mode\n",
    "    env_info = env.reset(train_mode)[brain_name]        \n",
    "    states = env_info.vector_observations                  \n",
    "    scores = np.zeros(num_agents)\n",
    "    while True:\n",
    "        actions = agent.act(states) \n",
    "        env_info = env.step(actions)[brain_name]           \n",
    "        next_states = env_info.vector_observations         \n",
    "        rewards = env_info.rewards                         \n",
    "        dones = env_info.local_done  \n",
    "        agent.update(states, actions, rewards, next_states, dones)\n",
    "        scores += env_info.rewards\n",
    "        states = next_states\n",
    "        if np.any(dones):   \n",
    "            break\n",
    "            \n",
    "    return max(scores)\n",
    "\n",
    "def run_episodes_and_display(agent, n_episodes=200, display_step=100):\n",
    "    \"\"\"\n",
    "    Runs a series of episode and display agent's performance\n",
    "    \n",
    "    \"\"\"\n",
    "    \n",
    "    scores = []\n",
    "    times = deque(maxlen=display_step)\n",
    "    for episode in range(1, n_episodes+1):\n",
    "        \n",
    "        start_time = time.time()\n",
    "        score = run_episode(agent, episode, train_mode=True)\n",
    "        times.append(time.time() - start_time)\n",
    "        scores.append(score)\n",
    "        \n",
    "        avg_time = sum(times)/display_step\n",
    "        avg_score = sum(scores[-display_step:])/display_step\n",
    "        if avg_score > 0.5:\n",
    "            print(\"Environment is solved in {} episodes! Average score last over 100 episodes {:.3f} > 0.5\".format(episode, avg_score))\n",
    "            break\n",
    "                \n",
    "        if episode%display_step==0:\n",
    "            print('Average score episode {}: {:.3f}'.format(episode, avg_score))\n",
    "            \n",
    "            \n",
    "    fig = plt.figure()\n",
    "    plt.plot(np.arange(len(scores)), scores)\n",
    "    plt.ylabel('Max Score')\n",
    "    plt.xlabel('Episode #')\n",
    "    plt.show()"
   ]
  },
  {
   "cell_type": "code",
   "execution_count": 23,
   "metadata": {},
   "outputs": [
    {
     "name": "stdout",
     "output_type": "stream",
     "text": [
      "Average score episode 100: 0.016\n",
      "Average score episode 200: 0.023\n",
      "Average score episode 300: 0.050\n",
      "Average score episode 400: 0.074\n",
      "Average score episode 500: 0.094\n",
      "Average score episode 600: 0.102\n",
      "Average score episode 700: 0.111\n",
      "Average score episode 800: 0.124\n",
      "Average score episode 900: 0.181\n",
      "Environment is solved in 976 episodes! Average score last over 100 episodes 0.521 > 0.5\n"
     ]
    },
    {
     "data": {
      "image/png": "[encoded data removed]",
      "text/plain": [
       "<Figure size 432x288 with 1 Axes>"
      ]
     },
     "metadata": {
      "needs_background": "light"
     },
     "output_type": "display_data"
    },
    {
     "name": "stdout",
     "output_type": "stream",
     "text": [
      "CPU times: user 28min 46s, sys: 1min 54s, total: 30min 40s\n",
      "Wall time: 25min 32s\n"
     ]
    }
   ],
   "source": [
    "%%time\n",
    "\n",
    "agent = MADDPGAgent(action_size, state_size, num_agents, \n",
    "                    update_every=10,\n",
    "                    epochs=10,\n",
    "                    buffer_size=int(1e5), \n",
    "                    batch_size=512, \n",
    "                    actor_lr=1e-4, \n",
    "                    critic_lr=1e-4,\n",
    "                    gamma=0.99,\n",
    "                    tau=0.01,\n",
    "                    act_noise = 1,\n",
    "                    noise_decay = 0.99995,\n",
    "                    min_noise = 0.01)\n",
    "\n",
    "run_episodes_and_display(agent, n_episodes = 1500)"
   ]
  },
  {
   "cell_type": "code",
   "execution_count": 26,
   "metadata": {},
   "outputs": [
    {
     "data": {
      "text/plain": [
       "2.600000038743019"
      ]
     },
     "execution_count": 26,
     "metadata": {},
     "output_type": "execute_result"
    }
   ],
   "source": [
    "run_episode(agent, 0, train_mode=False)"
   ]
  },
  {
   "cell_type": "code",
   "execution_count": 27,
   "metadata": {},
   "outputs": [],
   "source": [
    "torch.save(agent.agents[0].critic.state_dict(), \"agent1_critic.pt\")\n",
    "torch.save(agent.agents[0].actor.state_dict(), \"agent1_actor.pt\")\n",
    "torch.save(agent.agents[1].critic.state_dict(), \"agent2_critic.pt\")\n",
    "torch.save(agent.agents[1].actor.state_dict(), \"agent2_actor.pt\")"
   ]
  },
  {
   "cell_type": "markdown",
   "metadata": {},
   "source": [
    "# Further work\n",
    "\n",
    "As a future work i'd suggest following:  \n",
    "1) We can observe that during play agents make a lot of unnaccessary move. We need to stabilize actions by adding some penalty for extra moves. This topic require further research.  \n",
    "2) Add importance sampling to encourage faster learning.  \n",
    "3) Solve environment with single agent algorithm like DDPG or PPO and compare performance.  \n",
    "4) Try different tricks like initializing last layers of actor with zero or small values to encourage exploration on early stages of learning."
   ]
  },
  {
   "cell_type": "code",
   "execution_count": null,
   "metadata": {},
   "outputs": [],
   "source": []
  }
 ],
 "metadata": {
  "kernelspec": {
   "display_name": "Python 3",
   "language": "python",
   "name": "python3"
  },
  "language_info": {
   "codemirror_mode": {
    "name": "ipython",
    "version": 3
   },
   "file_extension": ".py",
   "mimetype": "text/x-python",
   "name": "python",
   "nbconvert_exporter": "python",
   "pygments_lexer": "ipython3",
   "version": "3.6.12"
  }
 },
 "nbformat": 4,
 "nbformat_minor": 2
}
